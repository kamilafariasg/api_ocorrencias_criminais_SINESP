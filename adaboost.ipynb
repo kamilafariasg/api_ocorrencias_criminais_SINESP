{
  "nbformat": 4,
  "nbformat_minor": 0,
  "metadata": {
    "colab": {
      "name": "adaboost.ipynb",
      "provenance": [],
      "authorship_tag": "ABX9TyMRabhYPtdivulWtCFRM3dZ"
    },
    "kernelspec": {
      "name": "python3",
      "display_name": "Python 3"
    },
    "language_info": {
      "name": "python"
    }
  },
  "cells": [
    {
      "cell_type": "markdown",
      "metadata": {
        "id": "C7nvByZebQ-w"
      },
      "source": [
        "# **AdaBoost**"
      ]
    },
    {
      "cell_type": "markdown",
      "metadata": {
        "id": "uD_XF-HIwwqY"
      },
      "source": [
        "## **Exemplo 1: Classificação**"
      ]
    },
    {
      "cell_type": "markdown",
      "metadata": {
        "id": "lFC6GfVZuGFu"
      },
      "source": [
        "**Importando Bibliotecas**"
      ]
    },
    {
      "cell_type": "code",
      "metadata": {
        "id": "_f_-OcFWo2EL"
      },
      "source": [
        "from sklearn import datasets\n",
        "from sklearn import metrics\n",
        "import pandas as pd\n",
        "from sklearn.ensemble import AdaBoostClassifier"
      ],
      "execution_count": 39,
      "outputs": []
    },
    {
      "cell_type": "markdown",
      "metadata": {
        "id": "IZ2V7yInuLjP"
      },
      "source": [
        "**Importando Dados**"
      ]
    },
    {
      "cell_type": "code",
      "metadata": {
        "colab": {
          "base_uri": "https://localhost:8080/",
          "height": 204
        },
        "id": "fu8pOU8vscZo",
        "outputId": "e0553e1c-e5ea-4f1d-cd8a-b300a5af6e01"
      },
      "source": [
        "# importando dados\n",
        "iris = datasets.load_iris()\n",
        "irs = pd.DataFrame(iris.data, columns = iris.feature_names)\n",
        "irs['class'] = iris.target\n",
        "irs.head()"
      ],
      "execution_count": 40,
      "outputs": [
        {
          "output_type": "execute_result",
          "data": {
            "text/html": [
              "<div>\n",
              "<style scoped>\n",
              "    .dataframe tbody tr th:only-of-type {\n",
              "        vertical-align: middle;\n",
              "    }\n",
              "\n",
              "    .dataframe tbody tr th {\n",
              "        vertical-align: top;\n",
              "    }\n",
              "\n",
              "    .dataframe thead th {\n",
              "        text-align: right;\n",
              "    }\n",
              "</style>\n",
              "<table border=\"1\" class=\"dataframe\">\n",
              "  <thead>\n",
              "    <tr style=\"text-align: right;\">\n",
              "      <th></th>\n",
              "      <th>sepal length (cm)</th>\n",
              "      <th>sepal width (cm)</th>\n",
              "      <th>petal length (cm)</th>\n",
              "      <th>petal width (cm)</th>\n",
              "      <th>class</th>\n",
              "    </tr>\n",
              "  </thead>\n",
              "  <tbody>\n",
              "    <tr>\n",
              "      <th>0</th>\n",
              "      <td>5.1</td>\n",
              "      <td>3.5</td>\n",
              "      <td>1.4</td>\n",
              "      <td>0.2</td>\n",
              "      <td>0</td>\n",
              "    </tr>\n",
              "    <tr>\n",
              "      <th>1</th>\n",
              "      <td>4.9</td>\n",
              "      <td>3.0</td>\n",
              "      <td>1.4</td>\n",
              "      <td>0.2</td>\n",
              "      <td>0</td>\n",
              "    </tr>\n",
              "    <tr>\n",
              "      <th>2</th>\n",
              "      <td>4.7</td>\n",
              "      <td>3.2</td>\n",
              "      <td>1.3</td>\n",
              "      <td>0.2</td>\n",
              "      <td>0</td>\n",
              "    </tr>\n",
              "    <tr>\n",
              "      <th>3</th>\n",
              "      <td>4.6</td>\n",
              "      <td>3.1</td>\n",
              "      <td>1.5</td>\n",
              "      <td>0.2</td>\n",
              "      <td>0</td>\n",
              "    </tr>\n",
              "    <tr>\n",
              "      <th>4</th>\n",
              "      <td>5.0</td>\n",
              "      <td>3.6</td>\n",
              "      <td>1.4</td>\n",
              "      <td>0.2</td>\n",
              "      <td>0</td>\n",
              "    </tr>\n",
              "  </tbody>\n",
              "</table>\n",
              "</div>"
            ],
            "text/plain": [
              "   sepal length (cm)  sepal width (cm)  ...  petal width (cm)  class\n",
              "0                5.1               3.5  ...               0.2      0\n",
              "1                4.9               3.0  ...               0.2      0\n",
              "2                4.7               3.2  ...               0.2      0\n",
              "3                4.6               3.1  ...               0.2      0\n",
              "4                5.0               3.6  ...               0.2      0\n",
              "\n",
              "[5 rows x 5 columns]"
            ]
          },
          "metadata": {
            "tags": []
          },
          "execution_count": 40
        }
      ]
    },
    {
      "cell_type": "markdown",
      "metadata": {
        "id": "HcWbkaOev4zX"
      },
      "source": [
        "**Dividindo em Treino e Teste**"
      ]
    },
    {
      "cell_type": "code",
      "metadata": {
        "id": "IHFI-B7HYrc-"
      },
      "source": [
        "X = iris.data\n",
        "Y = iris.target"
      ],
      "execution_count": 41,
      "outputs": []
    },
    {
      "cell_type": "code",
      "metadata": {
        "id": "TV3Jw9s_ti6v"
      },
      "source": [
        "from sklearn.model_selection import train_test_split\n",
        "\n",
        "# Separando Dados de Treino\n",
        "# o conjunto de dados é dividido em 80% de dados de treino e 20% de dados de teste.\n",
        "X_train, X_test, Y_train, Y_test = train_test_split(X, Y, test_size=0.2)"
      ],
      "execution_count": 42,
      "outputs": []
    },
    {
      "cell_type": "markdown",
      "metadata": {
        "id": "FM47ssrxvxlv"
      },
      "source": [
        "**Construindo** **Modelo**"
      ]
    },
    {
      "cell_type": "markdown",
      "metadata": {
        "id": "6rgg-_DOxcx6"
      },
      "source": [
        "Parâmetros do AdaBoost Classifier\n",
        "\n",
        "base_estimator: É o algoritmo utilizado para treinar os modelos fracos. O padrão é a arvore de decisão, a não ser que queira algo especifico, isso não precisa ser alterado.\n",
        "\n",
        "n_estimators: É o número de modelos que ele vai utilizar para o treino.\n",
        "\n",
        "learning_rate: É a taxa de aprendizado, um valor muito baixo demorará mais, mas as vezes com melhor resultado.\n",
        "\n"
      ]
    },
    {
      "cell_type": "code",
      "metadata": {
        "id": "THQiXKk3tqc4"
      },
      "source": [
        "#Criando Classificador\n",
        "clf = AdaBoostClassifier(n_estimators=50, learning_rate=1) #, algorithm='SAMME.R')\n",
        "\n",
        "#Ajustando ao modelo\n",
        "clf.fit(X_train,Y_train)\n",
        "\n",
        "y_pred=clf.predict(X_test)"
      ],
      "execution_count": 44,
      "outputs": []
    },
    {
      "cell_type": "markdown",
      "metadata": {
        "id": "hiVgM2BkvtaG"
      },
      "source": [
        "**Avaliando Resultados**"
      ]
    },
    {
      "cell_type": "code",
      "metadata": {
        "colab": {
          "base_uri": "https://localhost:8080/"
        },
        "id": "ES3iq-mltwD_",
        "outputId": "8c5ba78a-9f6b-4351-cf77-1fb7f9e77152"
      },
      "source": [
        "\n",
        "print(\"Accuracy:\",metrics.accuracy_score(Y_test, y_pred))"
      ],
      "execution_count": 45,
      "outputs": [
        {
          "output_type": "stream",
          "text": [
            "Accuracy: 0.8666666666666667\n"
          ],
          "name": "stdout"
        }
      ]
    },
    {
      "cell_type": "code",
      "metadata": {
        "colab": {
          "base_uri": "https://localhost:8080/"
        },
        "id": "_JoxpSFrZ3ZZ",
        "outputId": "0bcd7b53-dcc0-4039-ee89-76c4a88afd7e"
      },
      "source": [
        "from sklearn.metrics import confusion_matrix, classification_report\n",
        "\n",
        "print(classification_report(Y_test, y_pred))"
      ],
      "execution_count": 46,
      "outputs": [
        {
          "output_type": "stream",
          "text": [
            "              precision    recall  f1-score   support\n",
            "\n",
            "           0       1.00      1.00      1.00         9\n",
            "           1       0.67      1.00      0.80         8\n",
            "           2       1.00      0.69      0.82        13\n",
            "\n",
            "    accuracy                           0.87        30\n",
            "   macro avg       0.89      0.90      0.87        30\n",
            "weighted avg       0.91      0.87      0.87        30\n",
            "\n"
          ],
          "name": "stdout"
        }
      ]
    },
    {
      "cell_type": "markdown",
      "metadata": {
        "id": "Jg85MhnlacMb"
      },
      "source": [
        "## **Exemplo 2: Regressão**"
      ]
    },
    {
      "cell_type": "markdown",
      "metadata": {
        "id": "un82zgkaacMd"
      },
      "source": [
        "**Importando Bibliotecas**"
      ]
    },
    {
      "cell_type": "code",
      "metadata": {
        "id": "Dj1SDsF3acMf"
      },
      "source": [
        "from sklearn import datasets\n",
        "from sklearn import metrics\n",
        "import pandas as pd\n",
        "from sklearn.ensemble import AdaBoostRegressor"
      ],
      "execution_count": 29,
      "outputs": []
    },
    {
      "cell_type": "markdown",
      "metadata": {
        "id": "RwResQs4acMg"
      },
      "source": [
        "**Importando Dados**"
      ]
    },
    {
      "cell_type": "code",
      "metadata": {
        "colab": {
          "base_uri": "https://localhost:8080/",
          "height": 204
        },
        "id": "PEAsRgmwacMh",
        "outputId": "00ccdeb0-36ab-4bd2-cfab-d0cf21ab85b1"
      },
      "source": [
        "# importando dados\n",
        "iris = datasets.load_iris()\n",
        "irs = pd.DataFrame(iris.data, columns = iris.feature_names)\n",
        "irs['class'] = iris.target\n",
        "irs.head()"
      ],
      "execution_count": 30,
      "outputs": [
        {
          "output_type": "execute_result",
          "data": {
            "text/html": [
              "<div>\n",
              "<style scoped>\n",
              "    .dataframe tbody tr th:only-of-type {\n",
              "        vertical-align: middle;\n",
              "    }\n",
              "\n",
              "    .dataframe tbody tr th {\n",
              "        vertical-align: top;\n",
              "    }\n",
              "\n",
              "    .dataframe thead th {\n",
              "        text-align: right;\n",
              "    }\n",
              "</style>\n",
              "<table border=\"1\" class=\"dataframe\">\n",
              "  <thead>\n",
              "    <tr style=\"text-align: right;\">\n",
              "      <th></th>\n",
              "      <th>sepal length (cm)</th>\n",
              "      <th>sepal width (cm)</th>\n",
              "      <th>petal length (cm)</th>\n",
              "      <th>petal width (cm)</th>\n",
              "      <th>class</th>\n",
              "    </tr>\n",
              "  </thead>\n",
              "  <tbody>\n",
              "    <tr>\n",
              "      <th>0</th>\n",
              "      <td>5.1</td>\n",
              "      <td>3.5</td>\n",
              "      <td>1.4</td>\n",
              "      <td>0.2</td>\n",
              "      <td>0</td>\n",
              "    </tr>\n",
              "    <tr>\n",
              "      <th>1</th>\n",
              "      <td>4.9</td>\n",
              "      <td>3.0</td>\n",
              "      <td>1.4</td>\n",
              "      <td>0.2</td>\n",
              "      <td>0</td>\n",
              "    </tr>\n",
              "    <tr>\n",
              "      <th>2</th>\n",
              "      <td>4.7</td>\n",
              "      <td>3.2</td>\n",
              "      <td>1.3</td>\n",
              "      <td>0.2</td>\n",
              "      <td>0</td>\n",
              "    </tr>\n",
              "    <tr>\n",
              "      <th>3</th>\n",
              "      <td>4.6</td>\n",
              "      <td>3.1</td>\n",
              "      <td>1.5</td>\n",
              "      <td>0.2</td>\n",
              "      <td>0</td>\n",
              "    </tr>\n",
              "    <tr>\n",
              "      <th>4</th>\n",
              "      <td>5.0</td>\n",
              "      <td>3.6</td>\n",
              "      <td>1.4</td>\n",
              "      <td>0.2</td>\n",
              "      <td>0</td>\n",
              "    </tr>\n",
              "  </tbody>\n",
              "</table>\n",
              "</div>"
            ],
            "text/plain": [
              "   sepal length (cm)  sepal width (cm)  ...  petal width (cm)  class\n",
              "0                5.1               3.5  ...               0.2      0\n",
              "1                4.9               3.0  ...               0.2      0\n",
              "2                4.7               3.2  ...               0.2      0\n",
              "3                4.6               3.1  ...               0.2      0\n",
              "4                5.0               3.6  ...               0.2      0\n",
              "\n",
              "[5 rows x 5 columns]"
            ]
          },
          "metadata": {
            "tags": []
          },
          "execution_count": 30
        }
      ]
    },
    {
      "cell_type": "markdown",
      "metadata": {
        "id": "V-56GEhSacMl"
      },
      "source": [
        "**Dividindo em Treino e Teste**"
      ]
    },
    {
      "cell_type": "code",
      "metadata": {
        "id": "fleLR_K7acMm"
      },
      "source": [
        "x = iris.data\n",
        "y = iris.target"
      ],
      "execution_count": 31,
      "outputs": []
    },
    {
      "cell_type": "code",
      "metadata": {
        "id": "bzrcLa6yacMn"
      },
      "source": [
        "from sklearn.model_selection import train_test_split\n",
        "\n",
        "# Separando Dados de Treino\n",
        "# o conjunto de dados é dividido em 70% de dados de treino e 30% de dados de teste.\n",
        "x_train, x_test, y_train, y_test = train_test_split(x, y, test_size=0.3)"
      ],
      "execution_count": 32,
      "outputs": []
    },
    {
      "cell_type": "markdown",
      "metadata": {
        "id": "p-OdKVq-acMo"
      },
      "source": [
        "**Construindo** **Modelo**"
      ]
    },
    {
      "cell_type": "code",
      "metadata": {
        "id": "PIJSjFcNacMq"
      },
      "source": [
        "#Criando Classificador\n",
        "reg = AdaBoostRegressor(n_estimators=100, learning_rate=1)\n",
        "\n",
        "#Ajustando ao modelo\n",
        "reg.fit(x_train,y_train)\n",
        "\n",
        "y_pred=clf.predict(x_test)"
      ],
      "execution_count": 33,
      "outputs": []
    },
    {
      "cell_type": "markdown",
      "metadata": {
        "id": "mlk1skexacMr"
      },
      "source": [
        "**Avaliando Resultados**"
      ]
    },
    {
      "cell_type": "code",
      "metadata": {
        "colab": {
          "base_uri": "https://localhost:8080/"
        },
        "id": "iYoNS61cacMs",
        "outputId": "db24bf66-d1cb-42dd-9e3f-62283ccb7253"
      },
      "source": [
        "\n",
        "print(\"Accuracy:\",metrics.accuracy_score(y_test, y_pred))"
      ],
      "execution_count": 34,
      "outputs": [
        {
          "output_type": "stream",
          "text": [
            "Accuracy: 0.9111111111111111\n"
          ],
          "name": "stdout"
        }
      ]
    },
    {
      "cell_type": "code",
      "metadata": {
        "colab": {
          "base_uri": "https://localhost:8080/"
        },
        "id": "v_57AAuJacMs",
        "outputId": "72f9d56b-fbe7-4095-a581-8cb10e8150e0"
      },
      "source": [
        "from sklearn.metrics import confusion_matrix, classification_report\n",
        "\n",
        "print(classification_report(y_test, y_pred))"
      ],
      "execution_count": 35,
      "outputs": [
        {
          "output_type": "stream",
          "text": [
            "              precision    recall  f1-score   support\n",
            "\n",
            "           0       1.00      1.00      1.00        17\n",
            "           1       0.80      0.92      0.86        13\n",
            "           2       0.92      0.80      0.86        15\n",
            "\n",
            "    accuracy                           0.91        45\n",
            "   macro avg       0.91      0.91      0.90        45\n",
            "weighted avg       0.92      0.91      0.91        45\n",
            "\n"
          ],
          "name": "stdout"
        }
      ]
    }
  ]
}